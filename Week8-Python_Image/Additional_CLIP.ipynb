{
 "cells": [
  {
   "cell_type": "markdown",
   "metadata": {},
   "source": [
    "# CLIP\n",
    "https://huggingface.co/openai/clip-vit-base-patch32"
   ]
  },
  {
   "cell_type": "code",
   "execution_count": 2,
   "metadata": {},
   "outputs": [
    {
     "name": "stderr",
     "output_type": "stream",
     "text": [
      "ftfy or spacy is not installed using BERT BasicTokenizer instead of ftfy.\n"
     ]
    },
    {
     "name": "stdout",
     "output_type": "stream",
     "text": [
      "tensor([[0.9949, 0.0051]], grad_fn=<SoftmaxBackward0>)\n"
     ]
    }
   ],
   "source": [
    "from PIL import Image\n",
    "import requests\n",
    "\n",
    "from transformers import CLIPProcessor, CLIPModel\n",
    "\n",
    "model = CLIPModel.from_pretrained(\"openai/clip-vit-base-patch32\")\n",
    "processor = CLIPProcessor.from_pretrained(\"openai/clip-vit-base-patch32\")\n",
    "\n",
    "url = \"http://images.cocodataset.org/val2017/000000039769.jpg\"\n",
    "image = Image.open(requests.get(url, stream=True).raw)\n",
    "\n",
    "inputs = processor(text=[\"a photo of a cat\", \"a photo of a dog\"], images=image, return_tensors=\"pt\", padding=True)\n",
    "\n",
    "outputs = model(**inputs)\n",
    "logits_per_image = outputs.logits_per_image # this is the image-text similarity score\n",
    "probs = logits_per_image.softmax(dim=1) # we can take the softmax to get the label probabilities"
   ]
  },
  {
   "cell_type": "code",
   "execution_count": 7,
   "metadata": {},
   "outputs": [],
   "source": [
    "search_keywords = [\"a photo of a cat\", \"a photo of a dog\"]"
   ]
  },
  {
   "cell_type": "code",
   "execution_count": 12,
   "metadata": {},
   "outputs": [
    {
     "name": "stdout",
     "output_type": "stream",
     "text": [
      "Highest probability : a photo of a cat\tProbability: 0.99\n",
      "keyword: a photo of a cat\tProbability: 0.99\n",
      "keyword: a photo of a dog\tProbability: 0.01\n"
     ]
    }
   ],
   "source": [
    "\n",
    "# Get the index of the keyword with the highest probability\n",
    "index_of_highest_prob = probs.argmax().item()\n",
    "\n",
    "# Get the ethnicity keyword with the highest probability\n",
    "highest_prob_keyword = search_keywords[index_of_highest_prob]\n",
    "\n",
    "# Get the corresponding probability\n",
    "highest_prob = probs[0, index_of_highest_prob].item()\n",
    "\n",
    "print(f\"Highest probability : {highest_prob_keyword}\\tProbability: {highest_prob:.2f}\")\n",
    "\n",
    "#print(f\"{i}\\tscore: {now:.2f}\")\n",
    "for j, keyword in enumerate(search_keywords):\n",
    "    prob = probs[0, j].item()\n",
    "    print(f\"keyword: {keyword}\\tProbability: {prob:.2f}\")\n",
    "\n"
   ]
  }
 ],
 "metadata": {
  "kernelspec": {
   "display_name": "Python 3",
   "language": "python",
   "name": "python3"
  },
  "language_info": {
   "codemirror_mode": {
    "name": "ipython",
    "version": 3
   },
   "file_extension": ".py",
   "mimetype": "text/x-python",
   "name": "python",
   "nbconvert_exporter": "python",
   "pygments_lexer": "ipython3",
   "version": "3.8.3"
  }
 },
 "nbformat": 4,
 "nbformat_minor": 4
}
