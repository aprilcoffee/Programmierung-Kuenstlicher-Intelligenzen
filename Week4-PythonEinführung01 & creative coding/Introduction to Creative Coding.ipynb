{
 "cells": [
  {
   "cell_type": "markdown",
   "metadata": {},
   "source": [
    "# Introduction to Creative Coding"
   ]
  },
  {
   "cell_type": "markdown",
   "metadata": {},
   "source": [
    "![](https://d1fwgdbfuvd4ew.cloudfront.net/wp-content/uploads/sites/2/2022/11/19a_50_shades_of_grey-thumb-765xauto-2899.jpg)\n",
    "\n",
    "[50 . Shades of Grey](http://www.magicandlove.com/blog/artworks/50-shades-of-grey/) CHUNG Waiching Bryan\n",
    "\n",
    "\"50 Shades of Grey\" by Chung Waiching Bryan is a visual art piece using old programming languages to create a graphic pattern in 50 shades of grey."
   ]
  },
  {
   "cell_type": "markdown",
   "metadata": {},
   "source": [
    "## Creative Coding platforms\n",
    "\n",
    "1. **Cinder**: A library for programming with aesthetic intent, including graphics, audio, video, and computational geometry. Language: C++. [Cinder](https://libcinder.org)\n",
    "2. **Dittytoy**: A platform for creating generative music using JavaScript. [Dittytoy](http://dittytoy.net)\n",
    "3. **generativepy**: A Python library for creating visual generative art and mathematical diagrams. [generativepy](https://github.com/martinmcbride/generativepy)\n",
    "4. **Max MSP**: A visual programming language for music and multimedia. [Max MSP](https://cycling74.com/products/max)\n",
    "5. **Nannou**: A Rust library aimed at artists for expressing themselves with simple, fast, reliable code. [Nannou](https://nannou.cc)\n",
    "6. **openFrameworks**: A toolkit in C++ designed to assist the creative process. [openFrameworks](https://openframeworks.cc)\n",
    "7. **OPENRNDR**: A creative coding framework in Kotlin for prototyping and developing visual and interactive applications. [OPENRNDR](https://openrndr.org)\n",
    "8. **p5.js**: A JavaScript platform for creative coding, based on the principles of Processing. [p5.js](https://p5js.org)\n",
    "9. **Processing**: A flexible software sketchbook and language for learning to code in the context of visual arts. Languages: Java, Python. [Processing](https://processing.org)\n",
    "10. **Pure Data (Pd)**: A visual programming language for creating software graphically. [Pure Data](http://puredata.info)\n",
    "11. **Shoebot**: A creative coding environment in Python for vector graphics and animations. [Shoebot](https://shoebot.github.io)\n",
    "12. **SuperCollider**: An environment and programming language for real-time audio synthesis and algorithmic composition. Language: SuperCollider. [SuperCollider](https://supercollider.github.io)\n",
    "13. **Vvvv**: A hybrid visual/textual live-programming environment for prototyping and development. [Vvvv](https://vvvv.org)\n",
    "14. **ZIM**: A JavaScript Canvas Framework for creative coding. [ZIM](https://zimjs.com)\n",
    "15. **TouchDesigner**: A visual programming language ideal for real-time interactive multimedia content creation, using a node-based interface for visually-oriented users. [TouchDesigner](https://derivative.ca/UserGuide/TouchDesigner)\n"
   ]
  },
  {
   "cell_type": "markdown",
   "metadata": {},
   "source": [
    "## Tools to Learn Programming with\n",
    "\n",
    "1. **Khan Academy**: Offers a wide range of free courses in various subjects, including computer programming. [Khan Academy](https://www.khanacademy.org)\n",
    "2. **TED Talks**: Provides insightful talks and presentations, including topics related to technology and programming. [TED Talks](https://www.ted.com)\n",
    "3. **Coursera**: A platform with both free and paid courses, including many in computer programming and Python. [Coursera](https://www.coursera.org)\n",
    "4. **Udemy**: Offers a vast selection of courses in various disciplines, including programming, with both free and paid options. [Udemy](https://www.udemy.com)\n",
    "5. **Kadenze**: A platform specializing in creative technology and arts education, offering courses in various programming languages, including Python. [Kadenze](https://www.kadenze.com)\n",
    "\n",
    "For learning Python specifically, these websites are highly recommended:\n",
    "\n",
    "1. **LearnPython.org**: An interactive Python tutorial intended for both beginners and experienced programmers. [LearnPython.org](https://www.learnpython.org)\n",
    "2. **Codecademy**: Offers comprehensive courses and tutorials in Python, covering a range of applications from web development to data science. [Codecademy](https://www.codecademy.com)\n",
    "3. **Programiz**: Provides beginner-friendly tutorials and examples for learning Python programming. [Programiz](https://www.programiz.com)\n",
    "4. **freeCodeCamp**: Features a variety of Python courses, including \"Computing in Python I: Fundamentals and Procedural Programming\" by the Georgia Institute of Technology. [freeCodeCamp](https://www.freecodecamp.org)\n",
    "5. **W3Schools**: Offers free online tutorials, references, and exercises in Python, alongside other major web languages. [W3Schools](https://www.w3schools.com)\n",
    "\n",
    "These resources cater to a range of learning styles and objectives, making them ideal for anyone looking to start or advance their programming skills, especially in Python."
   ]
  }
 ],
 "metadata": {
  "kernelspec": {
   "display_name": "Python 3",
   "language": "python",
   "name": "python3"
  },
  "language_info": {
   "codemirror_mode": {
    "name": "ipython",
    "version": 3
   },
   "file_extension": ".py",
   "mimetype": "text/x-python",
   "name": "python",
   "nbconvert_exporter": "python",
   "pygments_lexer": "ipython3",
   "version": "3.8.3"
  }
 },
 "nbformat": 4,
 "nbformat_minor": 4
}
