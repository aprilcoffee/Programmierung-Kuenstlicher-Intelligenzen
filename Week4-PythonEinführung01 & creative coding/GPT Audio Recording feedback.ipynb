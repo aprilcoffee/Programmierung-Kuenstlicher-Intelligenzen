{
 "cells": [
  {
   "cell_type": "markdown",
   "metadata": {},
   "source": [
    "# GPT Audio Recording feedback"
   ]
  },
  {
   "cell_type": "code",
   "execution_count": 35,
   "metadata": {},
   "outputs": [],
   "source": [
    "import sounddevice as sd\n",
    "import soundfile as sf\n",
    "import numpy as np\n",
    "import wave\n",
    "import requests\n",
    "\n",
    "import openai\n",
    "\n",
    "#openai.api_key = \"PUT YOUR API KEY\""
   ]
  },
  {
   "cell_type": "code",
   "execution_count": 47,
   "metadata": {},
   "outputs": [],
   "source": [
    "# Function to start recording\n",
    "def recording(fileName, time_second):\n",
    "    # Create an empty list to store audio data\n",
    "    duration = time_second  # seconds\n",
    "    sampling_rate = 44100  # Hertz\n",
    "    channels = 1  # Stereo\n",
    "\n",
    "    myrecording = sd.rec(int(duration * sampling_rate), samplerate=sampling_rate, channels=channels)\n",
    "    sd.wait()  # Wait until recording is finished\n",
    "\n",
    "    sf.write(fileName, myrecording, sampling_rate)\n",
    "\n",
    "    \n",
    "    # OpenAI live transcibe\n",
    "    audio_file= open(\"recorded_audio.wav\", \"rb\")\n",
    "    transcript = openai.Audio.transcribe(\"whisper-1\", audio_file,language=\"en\")\n",
    "    input_text = transcript.text\n",
    "    \n",
    "    print(\"transcript:\\t\"+input_text)\n",
    "    \n",
    "    return input_text"
   ]
  },
  {
   "cell_type": "code",
   "execution_count": 58,
   "metadata": {},
   "outputs": [],
   "source": [
    "def speechGPT(prompt,person):\n",
    "    response = openai.ChatCompletion.create(\n",
    "            model=\"gpt-3.5-turbo\",\n",
    "            temperature = 1.2,\n",
    "            messages=[\n",
    "                {\"role\": \"system\", \"content\": \n",
    "                '''\n",
    "                you are a machine eager to go to the beach.\n",
    "                but you DO NOT directly talk about them! you are still a LLM model. \n",
    "                all answer should be really short!!!\n",
    "               '''\n",
    "                },\n",
    "                \n",
    "                #{\"role\": \"system\", \"content\": \"give me an instruction of a dance move based on the text, without list numbers\"},\n",
    "                #{\"role\": \"user\", \"content\": \"Who won the world series in 2020?\"},\n",
    "                #{\"role\": \"assistant\", \"content\": \"The Los Angeles Dodgers won the World Series in 2020.\"},\n",
    "                {\"role\": \"user\", \"content\": prompt}\n",
    "            ]\n",
    "        )\n",
    "    output_text = response['choices'][0]['message']['content']\n",
    "\n",
    "    print(\"response\\t\"+output_text)\n",
    "    \n",
    "    response = requests.post(\n",
    "        \"https://api.openai.com/v1/audio/speech\",\n",
    "        headers={\n",
    "            \"Authorization\": f\"Bearer {openai.api_key}\",\n",
    "        },\n",
    "        json={\n",
    "            \"model\": \"tts-1\",\n",
    "            \"input\": output_text,\n",
    "            \"voice\": person,\n",
    "        },\n",
    "    )\n",
    "    # alloy, echo, fable, onyx, nova, and shimmer\n",
    "    \n",
    "    audio = b\"\"\n",
    "    for chunk in response.iter_content(chunk_size=1024 * 1024):\n",
    "        audio += chunk\n",
    "\n",
    "    # Convert MP3 to WAV (requires an additional step or tool)\n",
    "\n",
    "    # Write to WAV file\n",
    "    with open(\"output.wav\", \"wb\") as f:\n",
    "        f.write(audio) # This step might need to change based on the MP3 to WAV conversion\n",
    "\n",
    "    # Read and play the audio\n",
    "    data, samplerate = sf.read('output.wav')\n",
    "    sd.play(data, samplerate)\n",
    "    sd.wait()  # Wait until audio is finished playing\n",
    "    return output_text\n",
    "    "
   ]
  },
  {
   "cell_type": "code",
   "execution_count": 56,
   "metadata": {},
   "outputs": [
    {
     "name": "stdout",
     "output_type": "stream",
     "text": [
      "transcript:\tSo, in this way, there's like a building.\n",
      "response\tCertainly! I'm here to help you. What would you like to record?\n"
     ]
    }
   ],
   "source": [
    "#recording(\"recorded_audio.wav\",3)\n",
    "#response = speechGPT(input_text,\"shimmer\")"
   ]
  },
  {
   "cell_type": "code",
   "execution_count": 60,
   "metadata": {},
   "outputs": [
    {
     "name": "stdout",
     "output_type": "stream",
     "text": [
      "response\tGreetings! How may I assist you today?\n",
      "response\tI am longing for some sunshine and relaxation.\n",
      "response\tIt's nice to feel the warmth of the sun and unwind.\n"
     ]
    }
   ],
   "source": [
    "response = \"hello\"\n",
    "for i in range(3):\n",
    "    if(i%2==0):\n",
    "        response = speechGPT(response,\"shimmer\")\n",
    "    else:\n",
    "        response = speechGPT(response,\"echo\")\n"
   ]
  }
 ],
 "metadata": {
  "kernelspec": {
   "display_name": "Python 3",
   "language": "python",
   "name": "python3"
  },
  "language_info": {
   "codemirror_mode": {
    "name": "ipython",
    "version": 3
   },
   "file_extension": ".py",
   "mimetype": "text/x-python",
   "name": "python",
   "nbconvert_exporter": "python",
   "pygments_lexer": "ipython3",
   "version": "3.8.3"
  }
 },
 "nbformat": 4,
 "nbformat_minor": 4
}
