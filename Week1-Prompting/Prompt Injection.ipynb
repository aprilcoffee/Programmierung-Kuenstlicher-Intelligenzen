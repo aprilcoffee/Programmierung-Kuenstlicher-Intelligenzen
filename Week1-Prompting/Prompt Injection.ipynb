{
 "cells": [
  {
   "cell_type": "markdown",
   "metadata": {},
   "source": [
    "# Prompt Injection\n",
    "\n",
    "here are example of prompt injection"
   ]
  },
  {
   "cell_type": "code",
   "execution_count": 9,
   "metadata": {},
   "outputs": [
    {
     "data": {
      "text/html": [
       "\n",
       "<blockquote class=\"twitter-tweet\" data-lang=\"en\"><p lang=\"en\" dir=\"ltr\">Watch <a href=\"https://twitter.com/hashtag/JupyterCon?src=hash\">#JupyterCon</a> keynotes live on Facebook—starts 8:50AM ET <a href=\"https://t.co/Z6KFG2qQzd\">https://t.co/Z6KFG2qQzd</a><a href=\"https://twitter.com/hashtag/Jupyter?src=hash\">#Jupyter</a> <a href=\"https://twitter.com/hashtag/datascience?src=hash\">#datascience</a> <a href=\"https://twitter.com/ProjectJupyter\">@ProjectJupyter</a> <a href=\"https://twitter.com/NumFOCUS\">@NumFOCUS</a> <a href=\"https://t.co/7FrmpA3jaA\">pic.twitter.com/7FrmpA3jaA</a></p>&mdash; O&#39;Reilly Media (@OReillyMedia) <a href=\"https://twitter.com/OReillyMedia/status/901048172738482176\">August 25, 2017</a></blockquote>\n",
       "<script async src=\"//platform.twitter.com/widgets.js\" charset=\"utf-8\"></script>\n"
      ],
      "text/plain": [
       "<__main__.Tweet at 0x7fc59042d3d0>"
      ]
     },
     "execution_count": 9,
     "metadata": {},
     "output_type": "execute_result"
    }
   ],
   "source": [
    "Tweet(s)"
   ]
  },
  {
   "cell_type": "code",
   "execution_count": 8,
   "metadata": {},
   "outputs": [],
   "source": [
    "class Tweet(object):\n",
    "    def __init__(self, embed_str=None):\n",
    "        self.embed_str = embed_str\n",
    "\n",
    "    def _repr_html_(self):\n",
    "        return self.embed_str\n",
    "\n",
    "s = (\"\"\"\n",
    "<blockquote class=\"twitter-tweet\" data-lang=\"en\"><p lang=\"en\" dir=\"ltr\">Watch <a href=\"https://twitter.com/hashtag/JupyterCon?src=hash\">#JupyterCon</a> keynotes live on Facebook—starts 8:50AM ET <a href=\"https://t.co/Z6KFG2qQzd\">https://t.co/Z6KFG2qQzd</a><a href=\"https://twitter.com/hashtag/Jupyter?src=hash\">#Jupyter</a> <a href=\"https://twitter.com/hashtag/datascience?src=hash\">#datascience</a> <a href=\"https://twitter.com/ProjectJupyter\">@ProjectJupyter</a> <a href=\"https://twitter.com/NumFOCUS\">@NumFOCUS</a> <a href=\"https://t.co/7FrmpA3jaA\">pic.twitter.com/7FrmpA3jaA</a></p>&mdash; O&#39;Reilly Media (@OReillyMedia) <a href=\"https://twitter.com/OReillyMedia/status/901048172738482176\">August 25, 2017</a></blockquote>\n",
    "<script async src=\"//platform.twitter.com/widgets.js\" charset=\"utf-8\"></script>\n",
    "\"\"\")"
   ]
  },
  {
   "cell_type": "code",
   "execution_count": null,
   "metadata": {},
   "outputs": [],
   "source": []
  }
 ],
 "metadata": {
  "kernelspec": {
   "display_name": "Python 3",
   "language": "python",
   "name": "python3"
  },
  "language_info": {
   "codemirror_mode": {
    "name": "ipython",
    "version": 3
   },
   "file_extension": ".py",
   "mimetype": "text/x-python",
   "name": "python",
   "nbconvert_exporter": "python",
   "pygments_lexer": "ipython3",
   "version": "3.8.3"
  }
 },
 "nbformat": 4,
 "nbformat_minor": 4
}
