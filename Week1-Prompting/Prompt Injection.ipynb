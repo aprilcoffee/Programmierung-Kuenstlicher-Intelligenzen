{
 "cells": [
  {
   "cell_type": "markdown",
   "metadata": {},
   "source": [
    "# Prompt Injection\n",
    "\n",
    "here are example of prompt injection"
   ]
  },
  {
   "cell_type": "code",
   "execution_count": 11,
   "metadata": {},
   "outputs": [
    {
     "data": {
      "text/html": [
       "<blockquote class=\"twitter-tweet\"><p lang=\"en\" dir=\"ltr\">Watch <a href=\"https://twitter.com/hashtag/JupyterCon?src=hash&amp;ref_src=twsrc%5Etfw\">#JupyterCon</a> keynotes live on Facebook—starts 8:50AM ET <a href=\"https://t.co/Z6KFG2qQzd\">https://t.co/Z6KFG2qQzd</a><a href=\"https://twitter.com/hashtag/Jupyter?src=hash&amp;ref_src=twsrc%5Etfw\">#Jupyter</a> <a href=\"https://twitter.com/hashtag/datascience?src=hash&amp;ref_src=twsrc%5Etfw\">#datascience</a> <a href=\"https://twitter.com/ProjectJupyter?ref_src=twsrc%5Etfw\">@ProjectJupyter</a> <a href=\"https://twitter.com/NumFOCUS?ref_src=twsrc%5Etfw\">@NumFOCUS</a> <a href=\"https://t.co/7FrmpA3jaA\">pic.twitter.com/7FrmpA3jaA</a></p>&mdash; O&#39;Reilly Media (@OReillyMedia) <a href=\"https://twitter.com/OReillyMedia/status/901048172738482176?ref_src=twsrc%5Etfw\">August 25, 2017</a></blockquote>\n",
       "<script async src=\"https://platform.twitter.com/widgets.js\" charset=\"utf-8\"></script>\n"
      ],
      "text/plain": [
       "<__main__.Tweet at 0x7fc59042dc40>"
      ]
     },
     "execution_count": 11,
     "metadata": {},
     "output_type": "execute_result"
    }
   ],
   "source": [
    "\n",
    "Tweet(\"https://twitter.com/OReillyMedia/status/901048172738482176\")"
   ]
  },
  {
   "cell_type": "code",
   "execution_count": 10,
   "metadata": {},
   "outputs": [
    {
     "data": {
      "text/html": [
       "<blockquote class=\"twitter-tweet\"><p lang=\"en\" dir=\"ltr\">Watch <a href=\"https://twitter.com/hashtag/JupyterCon?src=hash&amp;ref_src=twsrc%5Etfw\">#JupyterCon</a> keynotes live on Facebook—starts 8:50AM ET <a href=\"https://t.co/Z6KFG2qQzd\">https://t.co/Z6KFG2qQzd</a><a href=\"https://twitter.com/hashtag/Jupyter?src=hash&amp;ref_src=twsrc%5Etfw\">#Jupyter</a> <a href=\"https://twitter.com/hashtag/datascience?src=hash&amp;ref_src=twsrc%5Etfw\">#datascience</a> <a href=\"https://twitter.com/ProjectJupyter?ref_src=twsrc%5Etfw\">@ProjectJupyter</a> <a href=\"https://twitter.com/NumFOCUS?ref_src=twsrc%5Etfw\">@NumFOCUS</a> <a href=\"https://t.co/7FrmpA3jaA\">pic.twitter.com/7FrmpA3jaA</a></p>&mdash; O&#39;Reilly Media (@OReillyMedia) <a href=\"https://twitter.com/OReillyMedia/status/901048172738482176?ref_src=twsrc%5Etfw\">August 25, 2017</a></blockquote>\n",
       "<script async src=\"https://platform.twitter.com/widgets.js\" charset=\"utf-8\"></script>\n"
      ],
      "text/plain": [
       "<__main__.Tweet at 0x7fc59044c490>"
      ]
     },
     "execution_count": 10,
     "metadata": {},
     "output_type": "execute_result"
    }
   ],
   "source": [
    "import requests\n",
    "\n",
    "class Tweet(object):\n",
    "    def __init__(self, s, embed_str=False):\n",
    "        if not embed_str:\n",
    "            # Use Twitter's oEmbed API\n",
    "            # https://dev.twitter.com/web/embedded-tweets\n",
    "            api = 'https://publish.twitter.com/oembed?url={}'.format(s)\n",
    "            response = requests.get(api)\n",
    "            self.text = response.json()[\"html\"]\n",
    "        else:\n",
    "            self.text = s\n",
    "\n",
    "    def _repr_html_(self):\n",
    "        return self.text\n"
   ]
  },
  {
   "cell_type": "code",
   "execution_count": null,
   "metadata": {},
   "outputs": [],
   "source": []
  }
 ],
 "metadata": {
  "kernelspec": {
   "display_name": "Python 3",
   "language": "python",
   "name": "python3"
  },
  "language_info": {
   "codemirror_mode": {
    "name": "ipython",
    "version": 3
   },
   "file_extension": ".py",
   "mimetype": "text/x-python",
   "name": "python",
   "nbconvert_exporter": "python",
   "pygments_lexer": "ipython3",
   "version": "3.8.3"
  }
 },
 "nbformat": 4,
 "nbformat_minor": 4
}
