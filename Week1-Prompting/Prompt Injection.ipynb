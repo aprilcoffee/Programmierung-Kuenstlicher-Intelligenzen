{
 "cells": [
  {
   "cell_type": "markdown",
   "metadata": {},
   "source": [
    "# Prompt Injection\n",
    "<blockquote class=\"twitter-tweet\"><p lang=\"en\" dir=\"ltr\">Exploiting GPT-3 prompts with malicious inputs that order the model to ignore its previous directions. <a href=\"https://t.co/I0NVr9LOJq\">pic.twitter.com/I0NVr9LOJq</a></p>&mdash; Riley Goodside (@goodside) <a href=\"https://twitter.com/goodside/status/1569128808308957185?ref_src=twsrc%5Etfw\">September 12, 2022</a></blockquote> <script async src=\"https://platform.twitter.com/widgets.js\" charset=\"utf-8\"></script>)"
   ]
  },
  {
   "cell_type": "code",
   "execution_count": null,
   "metadata": {},
   "outputs": [],
   "source": []
  }
 ],
 "metadata": {
  "kernelspec": {
   "display_name": "Python 3",
   "language": "python",
   "name": "python3"
  },
  "language_info": {
   "codemirror_mode": {
    "name": "ipython",
    "version": 3
   },
   "file_extension": ".py",
   "mimetype": "text/x-python",
   "name": "python",
   "nbconvert_exporter": "python",
   "pygments_lexer": "ipython3",
   "version": "3.8.3"
  }
 },
 "nbformat": 4,
 "nbformat_minor": 4
}
